{
 "cells": [
  {
   "cell_type": "code",
   "execution_count": 2,
   "metadata": {},
   "outputs": [],
   "source": [
    "import pandas as pd\n",
    "from sklearn.model_selection import train_test_split\n",
    "from sklearn import tree\n",
    "from sklearn.preprocessing import OneHotEncoder\n",
    "from sklearn.compose import ColumnTransformer\n",
    "from sklearn.metrics import accuracy_score"
   ]
  },
  {
   "cell_type": "code",
   "execution_count": 13,
   "metadata": {},
   "outputs": [
    {
     "name": "stdout",
     "output_type": "stream",
     "text": [
      "  empire_or_resistance  count\n",
      "0               empire    480\n",
      "1           resistance    520\n"
     ]
    }
   ],
   "source": [
    "# Load the dataset\n",
    "data = pd.read_csv('troop_movements.csv')\n",
    "\n",
    "counts_of_data = data.groupby(['empire_or_resistance']).size().reset_index(name='count')\n",
    "print(counts_of_data)"
   ]
  },
  {
   "cell_type": "code",
   "execution_count": 14,
   "metadata": {},
   "outputs": [
    {
     "name": "stdout",
     "output_type": "stream",
     "text": [
      "       homeworld  count\n",
      "0       Alderaan     29\n",
      "1    Aleen Minor     26\n",
      "2     Bestine IV     22\n",
      "3          Cerea     21\n",
      "4       Champala     32\n",
      "5      Chandrila     21\n",
      "6   Concord Dawn     20\n",
      "7       Corellia     27\n",
      "8        Dagobah     20\n",
      "9       Dathomir     28\n",
      "10         Dorin     25\n",
      "11        Eriadu     28\n",
      "12   Glee Anselm     27\n",
      "13    Haruun Kal     12\n",
      "14       Iktotch     22\n",
      "15      Iridonia     22\n",
      "16         Kalee     20\n",
      "17      Kashyyyk     23\n",
      "18     Malastare     23\n",
      "19        Mirial     27\n",
      "20      Mon Cala     26\n",
      "21    Muunilinst     17\n",
      "22         Naboo     22\n",
      "23          Ojom     24\n",
      "24       Quermia     23\n",
      "25         Rodia     25\n",
      "26        Ryloth     33\n",
      "27       Serenno     27\n",
      "28         Shili     16\n",
      "29         Skako     21\n",
      "30       Socorro     27\n",
      "31       Stewjon     16\n",
      "32       Sullust     28\n",
      "33      Tatooine     36\n",
      "34       Tholoth     24\n",
      "35      Toydaria     26\n",
      "36     Trandosha     19\n",
      "37       Troiken     25\n",
      "38          Tund     17\n",
      "39        Umbara     23\n",
      "40       Vulpter     26\n",
      "41         Zolan     24\n"
     ]
    }
   ],
   "source": [
    "count_of_homeworld = data.groupby('homeworld').size().reset_index(name='count')\n",
    "print(count_of_homeworld)"
   ]
  },
  {
   "cell_type": "code",
   "execution_count": null,
   "metadata": {},
   "outputs": [],
   "source": []
  }
 ],
 "metadata": {
  "kernelspec": {
   "display_name": "Python 3",
   "language": "python",
   "name": "python3"
  },
  "language_info": {
   "codemirror_mode": {
    "name": "ipython",
    "version": 3
   },
   "file_extension": ".py",
   "mimetype": "text/x-python",
   "name": "python",
   "nbconvert_exporter": "python",
   "pygments_lexer": "ipython3",
   "version": "3.12.3"
  }
 },
 "nbformat": 4,
 "nbformat_minor": 2
}
